{
 "cells": [
  {
   "cell_type": "markdown",
   "id": "d58419b5",
   "metadata": {},
   "source": [
    "# Data Science Tools and Ecosystem"
   ]
  },
  {
   "cell_type": "markdown",
   "id": "e2afa487",
   "metadata": {},
   "source": [
    "In this notebook, Data Science Tools and Ecosystem are summarized."
   ]
  },
  {
   "cell_type": "markdown",
   "id": "857ff1ca",
   "metadata": {},
   "source": [
    "<b>Objectives: </b>\n",
    "    <ul>\n",
    "    <li>Some of the popular languages that Data Scientists use are: </li>\n",
    "         <li>SSome of the commonly used libraries used by Data Scientists include: </li>\n",
    "                 <li>Data Science Tools </li>\n",
    "                        </ul>"
   ]
  },
  {
   "cell_type": "markdown",
   "id": "812c5f73",
   "metadata": {},
   "source": [
    "Some of the popular languages that Data Scientists use are:\n",
    "<ol>\n",
    "    <li>python</li>\n",
    "    <li>R</li>\n",
    "    <li>scala</li>\n",
    "</ol>"
   ]
  },
  {
   "cell_type": "markdown",
   "id": "6fc5f696",
   "metadata": {},
   "source": [
    "Some of the commonly used libraries used by Data Scientists include:\n",
    "<ol>\n",
    "    <li>numpy</li>\n",
    "    <li>pandas</li>\n",
    "    <li>scipy</li>\n",
    "</ol>"
   ]
  },
  {
   "cell_type": "markdown",
   "id": "b1010c7d",
   "metadata": {},
   "source": [
    "<tr>\n",
    "    <th>Data Science Tools</th>\n",
    "</tr>\n",
    "<tr>\n",
    "    <td>matplotlib</td>\n",
    "</tr>\n",
    "<tr>\n",
    "    <td>tensorflow</td>\n",
    "</tr>\n",
    "<tr>\n",
    "    <td>  apache hadoop</td>\n",
    "</tr>"
   ]
  },
  {
   "cell_type": "markdown",
   "id": "1ffcd65a",
   "metadata": {},
   "source": [
    "### Below are a few examples of evaluating arithmetic expressions in Python"
   ]
  },
  {
   "cell_type": "markdown",
   "id": "e4bf3b6a",
   "metadata": {},
   "source": [
    "This a simple arithmetic expression to mutiply then add integers"
   ]
  },
  {
   "cell_type": "code",
   "execution_count": 1,
   "id": "f128900d",
   "metadata": {},
   "outputs": [
    {
     "data": {
      "text/plain": [
       "17"
      ]
     },
     "execution_count": 1,
     "metadata": {},
     "output_type": "execute_result"
    }
   ],
   "source": [
    "(3*4)+5"
   ]
  },
  {
   "cell_type": "markdown",
   "id": "4eafce11",
   "metadata": {},
   "source": [
    "This will convert 200 minutes to hours by diving by 60"
   ]
  },
  {
   "cell_type": "code",
   "execution_count": 2,
   "id": "24e8579c",
   "metadata": {},
   "outputs": [
    {
     "data": {
      "text/plain": [
       "3.3333333333333335"
      ]
     },
     "execution_count": 2,
     "metadata": {},
     "output_type": "execute_result"
    }
   ],
   "source": [
    "200/60"
   ]
  },
  {
   "cell_type": "markdown",
   "id": "15092cd6",
   "metadata": {},
   "source": [
    "## author\n",
    "Bibin"
   ]
  },
  {
   "cell_type": "code",
   "execution_count": null,
   "id": "40e6e6d5",
   "metadata": {},
   "outputs": [],
   "source": []
  }
 ],
 "metadata": {
  "kernelspec": {
   "display_name": "Python 3 (ipykernel)",
   "language": "python",
   "name": "python3"
  },
  "language_info": {
   "codemirror_mode": {
    "name": "ipython",
    "version": 3
   },
   "file_extension": ".py",
   "mimetype": "text/x-python",
   "name": "python",
   "nbconvert_exporter": "python",
   "pygments_lexer": "ipython3",
   "version": "3.11.4"
  }
 },
 "nbformat": 4,
 "nbformat_minor": 5
}
